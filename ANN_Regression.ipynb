{
 "cells": [
  {
   "cell_type": "code",
   "execution_count": 2,
   "metadata": {},
   "outputs": [],
   "source": [
    "import torch\n",
    "import pandas as pd\n",
    "import numpy as np\n",
    "import torch.nn as nn\n",
    "import torch.optim as optim\n",
    "import torch.nn.functional as F"
   ]
  },
  {
   "cell_type": "code",
   "execution_count": 14,
   "metadata": {},
   "outputs": [
    {
     "data": {
      "text/html": [
       "<div>\n",
       "<style scoped>\n",
       "    .dataframe tbody tr th:only-of-type {\n",
       "        vertical-align: middle;\n",
       "    }\n",
       "\n",
       "    .dataframe tbody tr th {\n",
       "        vertical-align: top;\n",
       "    }\n",
       "\n",
       "    .dataframe thead th {\n",
       "        text-align: right;\n",
       "    }\n",
       "</style>\n",
       "<table border=\"1\" class=\"dataframe\">\n",
       "  <thead>\n",
       "    <tr style=\"text-align: right;\">\n",
       "      <th></th>\n",
       "      <th>price</th>\n",
       "      <th>area</th>\n",
       "      <th>bedrooms</th>\n",
       "      <th>bathrooms</th>\n",
       "      <th>stories</th>\n",
       "      <th>mainroad</th>\n",
       "      <th>guestroom</th>\n",
       "      <th>basement</th>\n",
       "      <th>hotwaterheating</th>\n",
       "      <th>airconditioning</th>\n",
       "      <th>parking</th>\n",
       "      <th>prefarea</th>\n",
       "      <th>furnishingstatus</th>\n",
       "    </tr>\n",
       "  </thead>\n",
       "  <tbody>\n",
       "    <tr>\n",
       "      <th>0</th>\n",
       "      <td>13300000</td>\n",
       "      <td>7420</td>\n",
       "      <td>4</td>\n",
       "      <td>2</td>\n",
       "      <td>3</td>\n",
       "      <td>yes</td>\n",
       "      <td>no</td>\n",
       "      <td>no</td>\n",
       "      <td>no</td>\n",
       "      <td>yes</td>\n",
       "      <td>2</td>\n",
       "      <td>yes</td>\n",
       "      <td>furnished</td>\n",
       "    </tr>\n",
       "    <tr>\n",
       "      <th>1</th>\n",
       "      <td>12250000</td>\n",
       "      <td>8960</td>\n",
       "      <td>4</td>\n",
       "      <td>4</td>\n",
       "      <td>4</td>\n",
       "      <td>yes</td>\n",
       "      <td>no</td>\n",
       "      <td>no</td>\n",
       "      <td>no</td>\n",
       "      <td>yes</td>\n",
       "      <td>3</td>\n",
       "      <td>no</td>\n",
       "      <td>furnished</td>\n",
       "    </tr>\n",
       "    <tr>\n",
       "      <th>2</th>\n",
       "      <td>12250000</td>\n",
       "      <td>9960</td>\n",
       "      <td>3</td>\n",
       "      <td>2</td>\n",
       "      <td>2</td>\n",
       "      <td>yes</td>\n",
       "      <td>no</td>\n",
       "      <td>yes</td>\n",
       "      <td>no</td>\n",
       "      <td>no</td>\n",
       "      <td>2</td>\n",
       "      <td>yes</td>\n",
       "      <td>semi-furnished</td>\n",
       "    </tr>\n",
       "    <tr>\n",
       "      <th>3</th>\n",
       "      <td>12215000</td>\n",
       "      <td>7500</td>\n",
       "      <td>4</td>\n",
       "      <td>2</td>\n",
       "      <td>2</td>\n",
       "      <td>yes</td>\n",
       "      <td>no</td>\n",
       "      <td>yes</td>\n",
       "      <td>no</td>\n",
       "      <td>yes</td>\n",
       "      <td>3</td>\n",
       "      <td>yes</td>\n",
       "      <td>furnished</td>\n",
       "    </tr>\n",
       "    <tr>\n",
       "      <th>4</th>\n",
       "      <td>11410000</td>\n",
       "      <td>7420</td>\n",
       "      <td>4</td>\n",
       "      <td>1</td>\n",
       "      <td>2</td>\n",
       "      <td>yes</td>\n",
       "      <td>yes</td>\n",
       "      <td>yes</td>\n",
       "      <td>no</td>\n",
       "      <td>yes</td>\n",
       "      <td>2</td>\n",
       "      <td>no</td>\n",
       "      <td>furnished</td>\n",
       "    </tr>\n",
       "  </tbody>\n",
       "</table>\n",
       "</div>"
      ],
      "text/plain": [
       "      price  area  bedrooms  bathrooms  stories mainroad guestroom basement  \\\n",
       "0  13300000  7420         4          2        3      yes        no       no   \n",
       "1  12250000  8960         4          4        4      yes        no       no   \n",
       "2  12250000  9960         3          2        2      yes        no      yes   \n",
       "3  12215000  7500         4          2        2      yes        no      yes   \n",
       "4  11410000  7420         4          1        2      yes       yes      yes   \n",
       "\n",
       "  hotwaterheating airconditioning  parking prefarea furnishingstatus  \n",
       "0              no             yes        2      yes        furnished  \n",
       "1              no             yes        3       no        furnished  \n",
       "2              no              no        2      yes   semi-furnished  \n",
       "3              no             yes        3      yes        furnished  \n",
       "4              no             yes        2       no        furnished  "
      ]
     },
     "execution_count": 14,
     "metadata": {},
     "output_type": "execute_result"
    }
   ],
   "source": [
    "df = pd.read_csv('Housing.csv')\n",
    "df.head()"
   ]
  },
  {
   "cell_type": "code",
   "execution_count": 15,
   "metadata": {},
   "outputs": [
    {
     "data": {
      "text/plain": [
       "545"
      ]
     },
     "execution_count": 15,
     "metadata": {},
     "output_type": "execute_result"
    }
   ],
   "source": [
    "len(df)"
   ]
  },
  {
   "cell_type": "code",
   "execution_count": 16,
   "metadata": {},
   "outputs": [
    {
     "name": "stdout",
     "output_type": "stream",
     "text": [
      "<class 'pandas.core.frame.DataFrame'>\n",
      "RangeIndex: 545 entries, 0 to 544\n",
      "Data columns (total 13 columns):\n",
      " #   Column            Non-Null Count  Dtype \n",
      "---  ------            --------------  ----- \n",
      " 0   price             545 non-null    int64 \n",
      " 1   area              545 non-null    int64 \n",
      " 2   bedrooms          545 non-null    int64 \n",
      " 3   bathrooms         545 non-null    int64 \n",
      " 4   stories           545 non-null    int64 \n",
      " 5   mainroad          545 non-null    object\n",
      " 6   guestroom         545 non-null    object\n",
      " 7   basement          545 non-null    object\n",
      " 8   hotwaterheating   545 non-null    object\n",
      " 9   airconditioning   545 non-null    object\n",
      " 10  parking           545 non-null    int64 \n",
      " 11  prefarea          545 non-null    object\n",
      " 12  furnishingstatus  545 non-null    object\n",
      "dtypes: int64(6), object(7)\n",
      "memory usage: 55.5+ KB\n"
     ]
    }
   ],
   "source": [
    "df.info()"
   ]
  },
  {
   "cell_type": "code",
   "execution_count": 17,
   "metadata": {},
   "outputs": [],
   "source": [
    "# columns which have same value in 75% of the rows\n",
    "cols = df.columns\n",
    "for col in cols:\n",
    "    if df[col].value_counts().max() > 0.75*len(df):\n",
    "        df = df.drop(col, axis=1)\n"
   ]
  },
  {
   "cell_type": "code",
   "execution_count": 18,
   "metadata": {},
   "outputs": [
    {
     "data": {
      "text/html": [
       "<div>\n",
       "<style scoped>\n",
       "    .dataframe tbody tr th:only-of-type {\n",
       "        vertical-align: middle;\n",
       "    }\n",
       "\n",
       "    .dataframe tbody tr th {\n",
       "        vertical-align: top;\n",
       "    }\n",
       "\n",
       "    .dataframe thead th {\n",
       "        text-align: right;\n",
       "    }\n",
       "</style>\n",
       "<table border=\"1\" class=\"dataframe\">\n",
       "  <thead>\n",
       "    <tr style=\"text-align: right;\">\n",
       "      <th></th>\n",
       "      <th>price</th>\n",
       "      <th>area</th>\n",
       "      <th>bedrooms</th>\n",
       "      <th>bathrooms</th>\n",
       "      <th>stories</th>\n",
       "      <th>basement</th>\n",
       "      <th>airconditioning</th>\n",
       "      <th>parking</th>\n",
       "      <th>furnishingstatus</th>\n",
       "    </tr>\n",
       "  </thead>\n",
       "  <tbody>\n",
       "    <tr>\n",
       "      <th>0</th>\n",
       "      <td>13300000</td>\n",
       "      <td>7420</td>\n",
       "      <td>4</td>\n",
       "      <td>2</td>\n",
       "      <td>3</td>\n",
       "      <td>no</td>\n",
       "      <td>yes</td>\n",
       "      <td>2</td>\n",
       "      <td>furnished</td>\n",
       "    </tr>\n",
       "    <tr>\n",
       "      <th>1</th>\n",
       "      <td>12250000</td>\n",
       "      <td>8960</td>\n",
       "      <td>4</td>\n",
       "      <td>4</td>\n",
       "      <td>4</td>\n",
       "      <td>no</td>\n",
       "      <td>yes</td>\n",
       "      <td>3</td>\n",
       "      <td>furnished</td>\n",
       "    </tr>\n",
       "    <tr>\n",
       "      <th>2</th>\n",
       "      <td>12250000</td>\n",
       "      <td>9960</td>\n",
       "      <td>3</td>\n",
       "      <td>2</td>\n",
       "      <td>2</td>\n",
       "      <td>yes</td>\n",
       "      <td>no</td>\n",
       "      <td>2</td>\n",
       "      <td>semi-furnished</td>\n",
       "    </tr>\n",
       "    <tr>\n",
       "      <th>3</th>\n",
       "      <td>12215000</td>\n",
       "      <td>7500</td>\n",
       "      <td>4</td>\n",
       "      <td>2</td>\n",
       "      <td>2</td>\n",
       "      <td>yes</td>\n",
       "      <td>yes</td>\n",
       "      <td>3</td>\n",
       "      <td>furnished</td>\n",
       "    </tr>\n",
       "    <tr>\n",
       "      <th>4</th>\n",
       "      <td>11410000</td>\n",
       "      <td>7420</td>\n",
       "      <td>4</td>\n",
       "      <td>1</td>\n",
       "      <td>2</td>\n",
       "      <td>yes</td>\n",
       "      <td>yes</td>\n",
       "      <td>2</td>\n",
       "      <td>furnished</td>\n",
       "    </tr>\n",
       "  </tbody>\n",
       "</table>\n",
       "</div>"
      ],
      "text/plain": [
       "      price  area  bedrooms  bathrooms  stories basement airconditioning  \\\n",
       "0  13300000  7420         4          2        3       no             yes   \n",
       "1  12250000  8960         4          4        4       no             yes   \n",
       "2  12250000  9960         3          2        2      yes              no   \n",
       "3  12215000  7500         4          2        2      yes             yes   \n",
       "4  11410000  7420         4          1        2      yes             yes   \n",
       "\n",
       "   parking furnishingstatus  \n",
       "0        2        furnished  \n",
       "1        3        furnished  \n",
       "2        2   semi-furnished  \n",
       "3        3        furnished  \n",
       "4        2        furnished  "
      ]
     },
     "execution_count": 18,
     "metadata": {},
     "output_type": "execute_result"
    }
   ],
   "source": [
    "df.head()"
   ]
  },
  {
   "cell_type": "code",
   "execution_count": 19,
   "metadata": {},
   "outputs": [
    {
     "data": {
      "text/html": [
       "<div>\n",
       "<style scoped>\n",
       "    .dataframe tbody tr th:only-of-type {\n",
       "        vertical-align: middle;\n",
       "    }\n",
       "\n",
       "    .dataframe tbody tr th {\n",
       "        vertical-align: top;\n",
       "    }\n",
       "\n",
       "    .dataframe thead th {\n",
       "        text-align: right;\n",
       "    }\n",
       "</style>\n",
       "<table border=\"1\" class=\"dataframe\">\n",
       "  <thead>\n",
       "    <tr style=\"text-align: right;\">\n",
       "      <th></th>\n",
       "      <th>price</th>\n",
       "      <th>area</th>\n",
       "      <th>bedrooms</th>\n",
       "      <th>bathrooms</th>\n",
       "      <th>stories</th>\n",
       "      <th>basement</th>\n",
       "      <th>airconditioning</th>\n",
       "      <th>parking</th>\n",
       "      <th>furnishingstatus</th>\n",
       "    </tr>\n",
       "  </thead>\n",
       "  <tbody>\n",
       "    <tr>\n",
       "      <th>0</th>\n",
       "      <td>13300000</td>\n",
       "      <td>7420</td>\n",
       "      <td>4</td>\n",
       "      <td>2</td>\n",
       "      <td>3</td>\n",
       "      <td>0</td>\n",
       "      <td>1</td>\n",
       "      <td>2</td>\n",
       "      <td>0</td>\n",
       "    </tr>\n",
       "    <tr>\n",
       "      <th>1</th>\n",
       "      <td>12250000</td>\n",
       "      <td>8960</td>\n",
       "      <td>4</td>\n",
       "      <td>4</td>\n",
       "      <td>4</td>\n",
       "      <td>0</td>\n",
       "      <td>1</td>\n",
       "      <td>3</td>\n",
       "      <td>0</td>\n",
       "    </tr>\n",
       "    <tr>\n",
       "      <th>2</th>\n",
       "      <td>12250000</td>\n",
       "      <td>9960</td>\n",
       "      <td>3</td>\n",
       "      <td>2</td>\n",
       "      <td>2</td>\n",
       "      <td>1</td>\n",
       "      <td>0</td>\n",
       "      <td>2</td>\n",
       "      <td>1</td>\n",
       "    </tr>\n",
       "    <tr>\n",
       "      <th>3</th>\n",
       "      <td>12215000</td>\n",
       "      <td>7500</td>\n",
       "      <td>4</td>\n",
       "      <td>2</td>\n",
       "      <td>2</td>\n",
       "      <td>1</td>\n",
       "      <td>1</td>\n",
       "      <td>3</td>\n",
       "      <td>0</td>\n",
       "    </tr>\n",
       "    <tr>\n",
       "      <th>4</th>\n",
       "      <td>11410000</td>\n",
       "      <td>7420</td>\n",
       "      <td>4</td>\n",
       "      <td>1</td>\n",
       "      <td>2</td>\n",
       "      <td>1</td>\n",
       "      <td>1</td>\n",
       "      <td>2</td>\n",
       "      <td>0</td>\n",
       "    </tr>\n",
       "  </tbody>\n",
       "</table>\n",
       "</div>"
      ],
      "text/plain": [
       "      price  area  bedrooms  bathrooms  stories  basement  airconditioning  \\\n",
       "0  13300000  7420         4          2        3         0                1   \n",
       "1  12250000  8960         4          4        4         0                1   \n",
       "2  12250000  9960         3          2        2         1                0   \n",
       "3  12215000  7500         4          2        2         1                1   \n",
       "4  11410000  7420         4          1        2         1                1   \n",
       "\n",
       "   parking  furnishingstatus  \n",
       "0        2                 0  \n",
       "1        3                 0  \n",
       "2        2                 1  \n",
       "3        3                 0  \n",
       "4        2                 0  "
      ]
     },
     "execution_count": 19,
     "metadata": {},
     "output_type": "execute_result"
    }
   ],
   "source": [
    "# label encoding\n",
    "from sklearn.preprocessing import LabelEncoder\n",
    "le = LabelEncoder()\n",
    "categorical_cols = df.select_dtypes(include='object').columns\n",
    "for col in categorical_cols:\n",
    "    df[col] = le.fit_transform(df[col])\n",
    "\n",
    "df.head()"
   ]
  },
  {
   "cell_type": "code",
   "execution_count": 21,
   "metadata": {},
   "outputs": [
    {
     "data": {
      "text/plain": [
       "price               1.000000\n",
       "area                0.535997\n",
       "bathrooms           0.517545\n",
       "airconditioning     0.452954\n",
       "stories             0.420712\n",
       "parking             0.384394\n",
       "bedrooms            0.366494\n",
       "basement            0.187057\n",
       "furnishingstatus   -0.304721\n",
       "Name: price, dtype: float64"
      ]
     },
     "execution_count": 21,
     "metadata": {},
     "output_type": "execute_result"
    }
   ],
   "source": [
    "# plot correlation with price\n",
    "df.corr()['price'].sort_values(ascending=False)"
   ]
  },
  {
   "cell_type": "code",
   "execution_count": 22,
   "metadata": {},
   "outputs": [],
   "source": [
    "X = df.drop('price', axis=1).values\n",
    "y = df['price'].values\n",
    "\n",
    "X = torch.FloatTensor(X)\n",
    "y = torch.FloatTensor(y)"
   ]
  },
  {
   "cell_type": "code",
   "execution_count": 24,
   "metadata": {},
   "outputs": [
    {
     "data": {
      "text/plain": [
       "(torch.Size([545, 8]), torch.Size([545]))"
      ]
     },
     "execution_count": 24,
     "metadata": {},
     "output_type": "execute_result"
    }
   ],
   "source": [
    "X.shape, y.shape"
   ]
  },
  {
   "cell_type": "code",
   "execution_count": 23,
   "metadata": {},
   "outputs": [],
   "source": [
    "# split data\n",
    "from sklearn.model_selection import train_test_split\n",
    "X_train, X_test, y_train, y_test = train_test_split(X, y, test_size=0.2, random_state=42)"
   ]
  },
  {
   "cell_type": "code",
   "execution_count": 46,
   "metadata": {},
   "outputs": [],
   "source": [
    "# model\n",
    "\n",
    "class ANN(nn.Module):\n",
    "    def __init__(self):\n",
    "        super().__init__()\n",
    "        self.fc1 = nn.Linear(8, 64)\n",
    "        self.fc2 = nn.Linear(64, 32)\n",
    "        self.fc3 = nn.Linear(32, 1)\n",
    "\n",
    "    def forward(self, x):\n",
    "        x = F.relu(self.fc1(x))\n",
    "        x = F.relu(self.fc2(x))\n",
    "        x = self.fc3(x)\n",
    "        return x"
   ]
  },
  {
   "cell_type": "code",
   "execution_count": 47,
   "metadata": {},
   "outputs": [],
   "source": [
    "# model, loss, optimizer\n",
    "model = ANN()\n",
    "loss_function = nn.MSELoss()\n",
    "optimizer = optim.Adam(model.parameters(), lr=0.01)"
   ]
  },
  {
   "cell_type": "code",
   "execution_count": 52,
   "metadata": {},
   "outputs": [
    {
     "name": "stdout",
     "output_type": "stream",
     "text": [
      "epoch: 0, loss: 3130707935232.0\n",
      "epoch: 100, loss: 3124956758016.0\n",
      "epoch: 200, loss: 3118852997120.0\n",
      "epoch: 300, loss: 3112312766464.0\n",
      "epoch: 400, loss: 3105222819840.0\n",
      "epoch: 500, loss: 3097432948736.0\n",
      "epoch: 600, loss: 3088736321536.0\n",
      "epoch: 700, loss: 3078846676992.0\n",
      "epoch: 800, loss: 3067356643328.0\n",
      "epoch: 900, loss: 3053672726528.0\n",
      "epoch: 1000, loss: 3036918579200.0\n",
      "epoch: 1100, loss: 3015767752704.0\n",
      "epoch: 1200, loss: 2988195971072.0\n",
      "epoch: 1300, loss: 2951134576640.0\n",
      "epoch: 1400, loss: 2900042711040.0\n",
      "epoch: 1500, loss: 2828551585792.0\n",
      "epoch: 1600, loss: 2728459763712.0\n",
      "epoch: 1700, loss: 2590849630208.0\n",
      "epoch: 1800, loss: 2409636823040.0\n",
      "epoch: 1900, loss: 2187072241664.0\n",
      "epoch: 2000, loss: 1942627024896.0\n",
      "epoch: 2100, loss: 1713344741376.0\n",
      "epoch: 2200, loss: 1531808710656.0\n",
      "epoch: 2300, loss: 1415638679552.0\n",
      "epoch: 2400, loss: 1352861745152.0\n",
      "epoch: 2500, loss: 1318336069632.0\n",
      "epoch: 2600, loss: 1298171166720.0\n",
      "epoch: 2700, loss: 1281528037376.0\n",
      "epoch: 2800, loss: 1267371212800.0\n",
      "epoch: 2900, loss: 1254884900864.0\n",
      "epoch: 3000, loss: 1243365113856.0\n",
      "epoch: 3100, loss: 1232527032320.0\n",
      "epoch: 3200, loss: 1222335791104.0\n",
      "epoch: 3300, loss: 1212670935040.0\n",
      "epoch: 3400, loss: 1203578732544.0\n",
      "epoch: 3500, loss: 1194923393024.0\n",
      "epoch: 3600, loss: 1186717237248.0\n",
      "epoch: 3700, loss: 1179007451136.0\n",
      "epoch: 3800, loss: 1171647365120.0\n",
      "epoch: 3900, loss: 1164780503040.0\n",
      "epoch: 4000, loss: 1159828209664.0\n",
      "epoch: 4100, loss: 1152325648384.0\n",
      "epoch: 4200, loss: 1149101277184.0\n",
      "epoch: 4300, loss: 1141593604096.0\n",
      "epoch: 4400, loss: 1136794271744.0\n",
      "epoch: 4500, loss: 1132341886976.0\n",
      "epoch: 4600, loss: 1128320204800.0\n",
      "epoch: 4700, loss: 1124597497856.0\n",
      "epoch: 4800, loss: 1121163149312.0\n",
      "epoch: 4900, loss: 1118073782272.0\n",
      "epoch: 5000, loss: 1115219558400.0\n",
      "epoch: 5100, loss: 1127010271232.0\n",
      "epoch: 5200, loss: 1110292168704.0\n",
      "epoch: 5300, loss: 1108133675008.0\n",
      "epoch: 5400, loss: 1106126962688.0\n",
      "epoch: 5500, loss: 1108946321408.0\n",
      "epoch: 5600, loss: 1102602960896.0\n",
      "epoch: 5700, loss: 1101027213312.0\n",
      "epoch: 5800, loss: 1099626053632.0\n",
      "epoch: 5900, loss: 1098248224768.0\n",
      "epoch: 6000, loss: 1096990785536.0\n",
      "epoch: 6100, loss: 1095898955776.0\n",
      "epoch: 6200, loss: 1094795722752.0\n",
      "epoch: 6300, loss: 1093800230912.0\n",
      "epoch: 6400, loss: 1097732915200.0\n",
      "epoch: 6500, loss: 1092070866944.0\n",
      "epoch: 6600, loss: 1091303899136.0\n",
      "epoch: 6700, loss: 1090582609920.0\n",
      "epoch: 6800, loss: 1090360967168.0\n",
      "epoch: 6900, loss: 1089365409792.0\n",
      "epoch: 7000, loss: 1088827162624.0\n",
      "epoch: 7100, loss: 1088409239552.0\n",
      "epoch: 7200, loss: 1087924666368.0\n",
      "epoch: 7300, loss: 1087543640064.0\n",
      "epoch: 7400, loss: 1087191384064.0\n",
      "epoch: 7500, loss: 1090282848256.0\n",
      "epoch: 7600, loss: 1086611652608.0\n",
      "epoch: 7700, loss: 1086365368320.0\n",
      "epoch: 7800, loss: 1095423098880.0\n",
      "epoch: 7900, loss: 1085967040512.0\n",
      "epoch: 8000, loss: 1085799071744.0\n",
      "epoch: 8100, loss: 1085673504768.0\n",
      "epoch: 8200, loss: 1085525458944.0\n",
      "epoch: 8300, loss: 1085410639872.0\n",
      "epoch: 8400, loss: 1085706928128.0\n",
      "epoch: 8500, loss: 1085226745856.0\n",
      "epoch: 8600, loss: 1085146923008.0\n",
      "epoch: 8700, loss: 1085074898944.0\n",
      "epoch: 8800, loss: 1085045145600.0\n",
      "epoch: 8900, loss: 1084969189376.0\n",
      "epoch: 9000, loss: 1084920365056.0\n",
      "epoch: 9100, loss: 1084874817536.0\n",
      "epoch: 9200, loss: 1084838182912.0\n",
      "epoch: 9300, loss: 1084802269184.0\n",
      "epoch: 9400, loss: 1084768780288.0\n",
      "epoch: 9500, loss: 1084747939840.0\n",
      "epoch: 9600, loss: 1084715827200.0\n",
      "epoch: 9700, loss: 1084690333696.0\n",
      "epoch: 9800, loss: 1084697214976.0\n",
      "epoch: 9900, loss: 1084648194048.0\n",
      "epoch: 10000, loss: 1084627877888.0\n"
     ]
    }
   ],
   "source": [
    "epochs = 10000 + 1\n",
    "losses = []\n",
    "for i in range(epochs):\n",
    "\n",
    "    y_pred = model(X_train) # [n_samples, 1]\n",
    "    loss = loss_function(y_pred, y_train.view(-1, 1))\n",
    "    losses.append(loss.item())\n",
    "\n",
    "    if i % 100 == 0:\n",
    "        print(f'epoch: {i}, loss: {loss.item()}')\n",
    "\n",
    "    optimizer.zero_grad()\n",
    "    loss.backward()\n",
    "    optimizer.step()"
   ]
  },
  {
   "cell_type": "code",
   "execution_count": 53,
   "metadata": {},
   "outputs": [
    {
     "data": {
      "image/png": "[encoded data removed]",
      "text/plain": [
       "<Figure size 640x480 with 1 Axes>"
      ]
     },
     "metadata": {},
     "output_type": "display_data"
    }
   ],
   "source": [
    "# plot losses\n",
    "import matplotlib.pyplot as plt\n",
    "plt.plot(range(epochs), losses)\n",
    "plt.xlabel('epochs')\n",
    "plt.ylabel('loss')\n",
    "plt.show()"
   ]
  },
  {
   "cell_type": "code",
   "execution_count": 54,
   "metadata": {},
   "outputs": [
    {
     "name": "stdout",
     "output_type": "stream",
     "text": [
      "rmse: 1404625.0\n"
     ]
    }
   ],
   "source": [
    "with torch.no_grad():\n",
    "    # rmse\n",
    "    y_pred = model(X_test)\n",
    "    loss = torch.sqrt(loss_function(y_pred, y_test.view(-1, 1)))\n",
    "    print(f'rmse: {loss}')"
   ]
  },
  {
   "cell_type": "code",
   "execution_count": 55,
   "metadata": {},
   "outputs": [
    {
     "name": "stdout",
     "output_type": "stream",
     "text": [
      "rmse: 1406756.375\n"
     ]
    }
   ],
   "source": [
    "# do it for linear regression\n",
    "from sklearn.linear_model import LinearRegression\n",
    "lr = LinearRegression()\n",
    "lr.fit(X_train, y_train)\n",
    "y_pred = lr.predict(X_test)\n",
    "loss = np.sqrt(np.mean((y_pred - y_test.numpy())**2))\n",
    "print(f'rmse: {loss}')\n"
   ]
  }
 ],
 "metadata": {
  "kernelspec": {
   "display_name": "Python 3",
   "language": "python",
   "name": "python3"
  },
  "language_info": {
   "codemirror_mode": {
    "name": "ipython",
    "version": 3
   },
   "file_extension": ".py",
   "mimetype": "text/x-python",
   "name": "python",
   "nbconvert_exporter": "python",
   "pygments_lexer": "ipython3",
   "version": "3.11.7"
  }
 },
 "nbformat": 4,
 "nbformat_minor": 2
}
