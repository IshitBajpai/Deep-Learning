{
 "cells":[
  {
   "cell_type": "code",
   "execution_count": 1,
   "id": "5151453e",
   "metadata": {},
   "outputs": [
    {
     "name": "stdout",
     "output_type": "stream",
     "text": [
      "WARNING:tensorflow:From c:\\Users\\Ishit\\AppData\\Local\\Programs\\Python\\Python311\\Lib\\site-packages\\keras\\src\\losses.py:2976: The name tf.losses.sparse_softmax_cross_entropy is deprecated. Please use tf.compat.v1.losses.sparse_softmax_cross_entropy instead.\n",
      "\n"
     ]
    }
   ],
   "source": [
    "import json\n",
    "import numpy as np\n",
    "import pandas as pd\n",
    "import matplotlib.pyplot as plt\n",
    "from keras.optimizers import Adam\n",
    "from keras.models import Sequential, Model\n",
    "from keras import backend as K\n",
    "from keras.layers import Conv2D, MaxPooling2D, Dense, Flatten, Input, Conv1D, MaxPooling1D\n",
    "from sklearn.metrics import classification_report, confusion_matrix\n",
    "import numpy as np\n",
    "import pandas as pd\n",
    "\n",
    "\n",
    "from keras.layers import Input, Dense, Dropout, concatenate, LSTM, Conv2D, MaxPooling2D, Flatten, GlobalMaxPooling1D,  Embedding\n",
    "from keras.models import Model\n",
    "from keras.optimizers import Adam, RMSprop\n",
    "from keras.preprocessing.text import Tokenizer\n",
    "from keras.utils import pad_sequences\n",
    "from keras.applications.vgg16 import VGG16\n",
    "from keras.utils import to_categorical\n",
    "from sklearn.metrics import classification_report, confusion_matrix"
   ]
  },
  {
   "cell_type": "code",
   "execution_count": 2,
   "id": "0111862e",
   "metadata": {},
   "outputs": [],
   "source": [
    "import tensorflow as tf\n",
    "tf.get_logger().setLevel('INFO')"
   ]
  },
  {
   "cell_type": "markdown",
   "id": "654ddc16",
   "metadata": {},
   "source": [
    "##### Defining some important metrics"
   ]
  },
  {
   "cell_type": "code",
   "execution_count": 3,
   "id": "81d1d163",
   "metadata": {},
   "outputs": [],
   "source": [
    "def recall_m(y_true, y_pred):\n",
    "    true_positives = K.sum(K.round(K.clip(y_true * y_pred, 0, 1)))\n",
    "    possible_positives = K.sum(K.round(K.clip(y_true, 0, 1)))\n",
    "    recall = true_positives / (possible_positives + K.epsilon())\n",
    "    return recall\n",
    "\n",
    "def precision_m(y_true, y_pred):\n",
    "    true_positives = K.sum(K.round(K.clip(y_true * y_pred, 0, 1)))\n",
    "    predicted_positives = K.sum(K.round(K.clip(y_pred, 0, 1)))\n",
    "    precision = true_positives / (predicted_positives + K.epsilon())\n",
    "    return precision\n",
    "\n",
    "def f1_m(y_true, y_pred):\n",
    "    precision = precision_m(y_true, y_pred)\n",
    "    recall = recall_m(y_true, y_pred)\n",
    "    return 2*((precision*recall)/(precision+recall+K.epsilon()))"
   ]
  },
  {
   "cell_type": "markdown",
   "id": "bf263d53",
   "metadata": {},
   "source": [
    "## Load the training, testing and valdiation JSONLs"
   ]
  },
  {
   "cell_type": "code",
   "execution_count": 110,
   "id": "d44d6d65",
   "metadata": {},
   "outputs": [],
   "source": [
    "# train_li = []\n",
    "# # Open the JSONL file\n",
    "# with open('./train.jsonl', 'r') as f:\n",
    "#     # Read each line of the file as a separate JSON object\n",
    "#     for line in f:\n",
    "#         train_li.append(json.loads(line))\n",
    "        \n",
    "# test_li = []\n",
    "# # Open the JSONL file\n",
    "# with open('./test_seen.jsonl', 'r') as f:\n",
    "#     # Read eactest_seen.jsonlh line of the file as a separate JSON object\n",
    "#     for line in f:\n",
    "#         test_li.append(json.loads(line))\n",
    "        \n",
    "# dev_li = []\n",
    "# # Open the JSONL file\n",
    "# with open('./dev_seen.jsonl', 'r') as f:\n",
    "#     # Read eactest_seen.jsonlh line of the file as a separate JSON object\n",
    "#     for line in f:\n",
    "#         dev_li.append(json.loads(line))\n",
    "        \n",
    "# ## Getting dataframes\n",
    "train_path = \"C:/Users/Ishit/pytorch/DL_A4/data/df_train_cleaned.csv\"\n",
    "val_path = \"C:/Users/Ishit/pytorch/DL_A4/data/df_dev_cleaned.csv\"\n",
    "test_path = \"C:/Users/Ishit/pytorch/DL_A4/data/df_test_seen.csv\"\n",
    "image_path = \"C:/Users/Ishit/Downloads/archive (1)/data/\"\n",
    "\n",
    "train_df = pd.read_csv(train_path)\n",
    "test_df = pd.read_csv(test_path)\n",
    "dev_df = pd.read_csv(val_path)"
   ]
  },
  {
   "cell_type": "code",
   "execution_count": 111,
   "id": "946f716f",
   "metadata": {},
   "outputs": [],
   "source": [
    "train_text = train_df['text'].tolist()\n",
    "test_text = test_df['text'].tolist()\n",
    "dev_text = dev_df['text'].tolist()"
   ]
  },
  {
   "cell_type": "code",
   "execution_count": 112,
   "id": "57582f66",
   "metadata": {},
   "outputs": [],
   "source": [
    "y_train = train_df['label'].tolist()\n",
    "y_test = test_df['label'].tolist()\n",
    "y_dev = dev_df['label'].tolist()"
   ]
  },
  {
   "cell_type": "code",
   "execution_count": 113,
   "id": "23815895",
   "metadata": {},
   "outputs": [
    {
     "name": "stdout",
     "output_type": "stream",
     "text": [
      "Found 6452 unique tokens.\n"
     ]
    }
   ],
   "source": [
    "max_len = 100\n",
    "tokenizer = Tokenizer()\n",
    "\n",
    "tokenizer.fit_on_texts(train_df['text'])\n",
    "\n",
    "sequences_train = tokenizer.texts_to_sequences(train_df['text'])\n",
    "sequences_val = tokenizer.texts_to_sequences(dev_df['text'])\n",
    "sequences_test = tokenizer.texts_to_sequences(test_df['text'])\n",
    "\n",
    "word_index = tokenizer.word_index\n",
    "print('Found %s unique tokens.' % len(word_index))\n",
    "\n",
    "x_train = pad_sequences(sequences_train, maxlen=max_len)\n",
    "x_val = pad_sequences(sequences_val, maxlen=max_len)\n",
    "x_test = pad_sequences(sequences_test, maxlen=max_len)\n",
    "\n",
    "y_train = np.array(train_df['label'])\n",
    "y_val = np.array(dev_df['label'])\n",
    "y_test = np.array(test_df['label'])"
   ]
  },
  {
   "cell_type": "code",
   "execution_count": 114,
   "id": "feab4db2",
   "metadata": {},
   "outputs": [],
   "source": [
    "# # # tokenizing\n",
    "# # train_text = [word_tokenize(i) for i in train_text]\n",
    "# # test_text = [word_tokenize(i) for i in test_text]\n",
    "# # dev_text = [word_tokenize(i) for i in dev_text]\n",
    "\n",
    "# # # word to index\n",
    "# # word2idx = { word: idx+1 for idx, word in enumerate(set([word for sentence in train_text for word in sentence]))}\n",
    "# # word2idx['UNK'] = len(word2idx)\n",
    "# # word2idx['PAD'] = 0\n",
    "\n",
    "# # # padding\n",
    "# # max_length = 100\n",
    "# # train_text = [[word2idx[word] for word in sentence] for sentence in train_text]\n",
    "# # test_text = [[word2idx[word] if word in word2idx else word2idx['UNK'] for word in sentence] for sentence in test_text]\n",
    "# # dev_text = [[word2idx[word] if word in word2idx else word2idx['UNK'] for word in sentence] for sentence in dev_text]\n",
    "\n",
    "# # train_text = pad_sequences(train_text, maxlen=max_length, padding='post')\n",
    "# # test_text = pad_sequences(test_text, maxlen=max_length, padding='post')\n",
    "# # dev_text = pad_sequences(dev_text, maxlen=max_length, padding='post')\n",
    "\n",
    "# from nltk.tokenize import word_tokenize\n",
    "# from tensorflow.keras.preprocessing.sequence import pad_sequences\n",
    "# import re\n",
    "# from collections import Counter\n",
    "\n",
    "# # Preprocessing\n",
    "# def preprocess_text(sentence):\n",
    "#     # print(sentence)\n",
    "#     text = sentence[0]\n",
    "\n",
    "#     text = text.lower()\n",
    "#     text = re.sub(r\"[^a-zA-Z0-9\\s]\", \"\", text)\n",
    "#     return text\n",
    "\n",
    "# train_text = [preprocess_text(sentence) for sentence in train_text]\n",
    "# test_text = [preprocess_text(sentence) for sentence in test_text]\n",
    "# dev_text = [preprocess_text(sentence) for sentence in dev_text]\n",
    "\n",
    "# # Tokenization\n",
    "# train_text = [word_tokenize(sentence) for sentence in train_text]\n",
    "# test_text = [word_tokenize(sentence) for sentence in test_text]\n",
    "# dev_text = [word_tokenize(sentence) for sentence in dev_text]\n",
    "\n",
    "# # Vocabulary Creation (Limit to Top 12,000 Words)\n",
    "# word_counts = Counter(word for sentence in train_text for word in sentence)\n",
    "# most_common_words = [word for word, _ in word_counts.most_common(12000)]\n",
    "# word2idx = {word: idx+1 for idx, word in enumerate(most_common_words)}\n",
    "# word2idx['UNK'] = len(word2idx) + 1\n",
    "# word2idx['PAD'] = 0\n",
    "\n",
    "# # Sequence Conversion\n",
    "# train_text = [[word2idx.get(word, word2idx['UNK']) for word in sentence] for sentence in train_text]\n",
    "# test_text = [[word2idx.get(word, word2idx['UNK']) for word in sentence] for sentence in test_text]\n",
    "# dev_text = [[word2idx.get(word, word2idx['UNK']) for word in sentence] for sentence in dev_text]\n",
    "\n",
    "# # Padding\n",
    "# max_length = 100\n",
    "# x_train = pad_sequences(train_text, maxlen=max_length, padding='post')\n",
    "# x_test = pad_sequences(test_text, maxlen=max_length, padding='post')\n",
    "# x_val = pad_sequences(dev_text, maxlen=max_length, padding='post')\n",
    "\n",
    "\n"
   ]
  },
  {
   "cell_type": "markdown",
   "id": "3cad0d9a",
   "metadata": {},
   "source": [
    "### Preprocessing the text"
   ]
  },
  {
   "cell_type": "code",
   "execution_count": 115,
   "id": "2fe61c0e",
   "metadata": {},
   "outputs": [],
   "source": [
    "# # word2idx\n",
    "# word2idx = {word: idx + 1 for idx, word in enumerate(unique_words)}\n",
    "# word2idx['<pad>'] = 0\n",
    "\n",
    "# # tokenizing\n",
    "# train_sequences = [[word2idx[word] for word in sent.split()] for sent in train_text]\n",
    "# test_sequences = [[word2idx.get(word, 0) for word in sent.split()] for sent in test_text]\n",
    "# dev_sequences = [[word2idx.get(word, 0) for word in sent.split()] for sent in dev_text]\n",
    "\n",
    "# # padding\n",
    "# MAX_SEQ_LENGTH = max([len(sent) for sent in train_sequences])\n",
    "# x_train = pad_sequences(train_sequences, maxlen=MAX_SEQ_LENGTH, padding='post')\n",
    "# x_test = pad_sequences(test_sequences, maxlen=MAX_SEQ_LENGTH, padding='post')\n",
    "# x_val = pad_sequences(dev_sequences, maxlen=MAX_SEQ_LENGTH, padding='post')"
   ]
  },
  {
   "cell_type": "code",
   "execution_count": 116,
   "id": "07b3c3ad",
   "metadata": {},
   "outputs": [],
   "source": [
    "# # convert y to tensor\n",
    "# y_train = to_categorical(y_train)\n",
    "# y_test = to_categorical(y_test)\n",
    "# y_val = to_categorical(y_dev)"
   ]
  },
  {
   "cell_type": "code",
   "execution_count": 117,
   "id": "9a7f123c",
   "metadata": {},
   "outputs": [],
   "source": [
    "# # # Preprocess the text data\n",
    "# max_len = 100\n",
    "# tokenizer = Tokenizer()\n",
    "\n",
    "# tokenizer.fit_on_texts(train_df['text'])\n",
    "\n",
    "# sequences_train = tokenizer.texts_to_sequences(train_df['text'])\n",
    "# sequences_val = tokenizer.texts_to_sequences(dev_df['text'])\n",
    "# sequences_test = tokenizer.texts_to_sequences(test_df['text'])\n",
    "\n",
    "# word_index = tokenizer.word_index\n",
    "# print('Found %s unique tokens.' % len(word_index))"
   ]
  },
  {
   "cell_type": "code",
   "execution_count": 118,
   "id": "7987fc85",
   "metadata": {},
   "outputs": [],
   "source": [
    "from torch.utils.data import Dataset, DataLoader\n",
    "class TextClassification(Dataset):\n",
    "    def __init__(self, x, y):\n",
    "        self.x = x\n",
    "        self.y = y\n",
    "        \n",
    "    def __len__(self):\n",
    "        return len(self.x)\n",
    "    \n",
    "    def __getitem__(self, idx):\n",
    "        return self.x[idx], self.y[idx]"
   ]
  },
  {
   "cell_type": "code",
   "execution_count": 119,
   "id": "bb799207",
   "metadata": {},
   "outputs": [],
   "source": [
    "train_dataset = TextClassification(x_train, y_train)\n",
    "val_dataset = TextClassification(x_val, y_val)\n",
    "test_dataset = TextClassification(x_test, y_test)\n",
    "\n",
    "train_loader = DataLoader(train_dataset, batch_size=32, shuffle=True)\n",
    "val_loader = DataLoader(val_dataset, batch_size=32, shuffle=True)\n",
    "test_loader = DataLoader(test_dataset, batch_size=32, shuffle=True)"
   ]
  },
  {
   "cell_type": "code",
   "execution_count": 81,
   "id": "5aeb60f0",
   "metadata": {},
   "outputs": [
    {
     "name": "stdout",
     "output_type": "stream",
     "text": [
      "torch.Size([32, 100]) torch.Size([32])\n"
     ]
    }
   ],
   "source": [
    "for x, y in train_loader:\n",
    "    print(x.shape, y.shape)\n",
    "    break"
   ]
  },
  {
   "cell_type": "code",
   "execution_count": 55,
   "id": "0b3bbe58",
   "metadata": {},
   "outputs": [],
   "source": [
    "import gensim\n",
    "glove_model = gensim.models.KeyedVectors.load(\"glove_model\")"
   ]
  },
  {
   "cell_type": "code",
   "execution_count": 56,
   "id": "9fb947df",
   "metadata": {},
   "outputs": [],
   "source": [
    "# implement the model using LSTM in pytorch\n",
    "import torch\n",
    "import torch.nn as nn\n",
    "import torch.optim as optim\n",
    "import torch.nn.functional as F"
   ]
  },
  {
   "cell_type": "code",
   "execution_count": 57,
   "id": "7262886f",
   "metadata": {},
   "outputs": [],
   "source": [
    "device = torch.device('cuda' if torch.cuda.is_available() else 'cpu')"
   ]
  },
  {
   "cell_type": "code",
   "execution_count": 94,
   "id": "a03936e5",
   "metadata": {},
   "outputs": [],
   "source": [
    "class LSTM(nn.Module):\n",
    "    def __init__(self, embedding_matrix, hidden_size, num_layers, num_classes):\n",
    "        super(LSTM, self).__init__()\n",
    "        self.hidden_size = hidden_size\n",
    "        self.num_layers = num_layers\n",
    "        self.embedding = nn.Embedding.from_pretrained(embedding_matrix)\n",
    "        self.lstm = nn.LSTM(embedding_matrix.shape[1], hidden_size, num_layers, batch_first=True)\n",
    "        self.fc = nn.Linear(hidden_size, num_classes)\n",
    "        \n",
    "    def forward(self, x):\n",
    "        h0 = torch.zeros(self.num_layers, x.size(0), self.hidden_size).to(device)\n",
    "        c0 = torch.zeros(self.num_layers, x.size(0), self.hidden_size).to(device)\n",
    "        \n",
    "        out = self.embedding(x)\n",
    "        out, _ = self.lstm(out, (h0, c0))\n",
    "        out = self.fc(out[:, -1, :])\n",
    "        return out"
   ]
  },
  {
   "cell_type": "code",
   "execution_count": 103,
   "id": "7f6355ae",
   "metadata": {},
   "outputs": [],
   "source": [
    "# Hyperparameters\n",
    "num_epochs = 10\n",
    "learning_rate = 0.001\n",
    "hidden_size = 64\n",
    "num_layers = 2\n",
    "num_classes = 2\n",
    "\n",
    "model = LSTM(torch.FloatTensor(glove_model.vectors), hidden_size, num_layers, num_classes).to(device)"
   ]
  },
  {
   "cell_type": "code",
   "execution_count": 104,
   "id": "1323aafb",
   "metadata": {},
   "outputs": [],
   "source": [
    "# Loss and optimizer\n",
    "criterion = nn.CrossEntropyLoss()\n",
    "optimizer = optim.Adam(model.parameters(), lr=learning_rate)"
   ]
  },
  {
   "cell_type": "code",
   "execution_count": 106,
   "id": "d6f88aa4",
   "metadata": {},
   "outputs": [
    {
     "name": "stdout",
     "output_type": "stream",
     "text": [
      "Epoch [1], Train Loss: 0.5289057761658239, Train Accuracy: 73.35400763358778, Val Loss: 0.8906242623925209, Val Accuracy: 53.41365461847389\n",
      "Epoch [2], Train Loss: 0.47948707310298017, Train Accuracy: 76.78912213740458, Val Loss: 0.9944566339254379, Val Accuracy: 53.01204819277109\n",
      "Epoch [3], Train Loss: 0.43057350825717433, Train Accuracy: 79.55629770992367, Val Loss: 1.0721925273537636, Val Accuracy: 55.020080321285135\n",
      "Epoch [4], Train Loss: 0.3870471936600809, Train Accuracy: 82.20419847328245, Val Loss: 1.2405956983566284, Val Accuracy: 52.610441767068274\n",
      "Epoch [5], Train Loss: 0.3274948372868181, Train Accuracy: 85.30534351145039, Val Loss: 1.1597339659929276, Val Accuracy: 52.610441767068274\n",
      "Epoch [6], Train Loss: 0.28339532194019273, Train Accuracy: 87.1421755725191, Val Loss: 1.333120971918106, Val Accuracy: 51.00401606425703\n",
      "Epoch [7], Train Loss: 0.25777505912626064, Train Accuracy: 88.9074427480916, Val Loss: 1.4657319784164429, Val Accuracy: 49.39759036144578\n",
      "Epoch [8], Train Loss: 0.22590693493039554, Train Accuracy: 90.76812977099237, Val Loss: 1.4632987827062607, Val Accuracy: 46.98795180722892\n",
      "Epoch [9], Train Loss: 0.21689025318349592, Train Accuracy: 90.91125954198473, Val Loss: 1.6465853154659271, Val Accuracy: 51.00401606425703\n",
      "Epoch [10], Train Loss: 0.19451560651641767, Train Accuracy: 91.14980916030534, Val Loss: 1.7179360687732697, Val Accuracy: 51.80722891566265\n"
     ]
    }
   ],
   "source": [
    "# Train the model\n",
    "epochs = 10\n",
    "\n",
    "train_losses = []\n",
    "val_losses = []\n",
    "train_accuracies = []\n",
    "val_accuracies = []\n",
    "\n",
    "for epoch in range(epochs):\n",
    "    train_loss = 0.0\n",
    "    train_accuracy = 0.0\n",
    "\n",
    "    model.train()\n",
    "    for i, (data, labels) in enumerate(train_loader):\n",
    "        data = data.to(device)\n",
    "        labels = labels.to(device)\n",
    "        \n",
    "        # Forward pass\n",
    "        outputs = model(data)\n",
    "        loss = criterion(outputs, labels)\n",
    "        \n",
    "        # Backward and optimize\n",
    "        optimizer.zero_grad()\n",
    "        loss.backward()\n",
    "        optimizer.step()\n",
    "\n",
    "        train_loss += loss.item()\n",
    "        _, predicted = torch.max(outputs, 1)\n",
    "        train_accuracy += (predicted == labels).sum().item()\n",
    "        \n",
    "    # print(f'Epoch [{epoch+1}], Loss: {train_loss}, Accuracy: {train_accuracy/len(train_dataset)}')\n",
    "    \n",
    "    # validation\n",
    "    model.eval()\n",
    "    with torch.no_grad():\n",
    "        val_loss = 0.0\n",
    "        val_accuracy = 0.0\n",
    "\n",
    "        for i, (data, labels) in enumerate(val_loader):\n",
    "            data = data.to(device)\n",
    "            labels = labels.to(device)\n",
    "\n",
    "            outputs = model(data)\n",
    "            loss = criterion(outputs, labels)\n",
    "\n",
    "            val_loss += loss.item()\n",
    "            _, predicted = torch.max(outputs, 1)\n",
    "            val_accuracy += (predicted == labels).sum().item()\n",
    "\n",
    "    # print(f'Epoch [{epoch+1}], Loss: {val_loss}, Accuracy: {val_accuracy/len(val_dataset)}')\n",
    "    train_loss /= len(train_loader)\n",
    "    train_accuracy /= len(train_dataset)\n",
    "    val_loss /= len(val_loader)\n",
    "    val_accuracy /= len(val_dataset)\n",
    "\n",
    "    train_losses.append(train_loss)\n",
    "    val_losses.append(val_loss)\n",
    "    train_accuracies.append(train_accuracy)\n",
    "    val_accuracies.append(val_accuracy)\n",
    "\n",
    "    print(f'Epoch [{epoch+1}], Train Loss: {train_loss}, Train Accuracy: {100*train_accuracy}, Val Loss: {val_loss}, Val Accuracy: {100*val_accuracy}')"
   ]
  },
  {
   "cell_type": "code",
   "execution_count": 107,
   "id": "f22636e2",
   "metadata": {},
   "outputs": [
    {
     "data": {
      "text/plain": [
       "<matplotlib.legend.Legend at 0x2cf6313ac90>"
      ]
     },
     "execution_count": 107,
     "metadata": {},
     "output_type": "execute_result"
    },
    {
     "data": {
      "image/png": "[encoded data removed]",
      "text/plain": [
       "<Figure size 640x480 with 1 Axes>"
      ]
     },
     "metadata": {},
     "output_type": "display_data"
    }
   ],
   "source": [
    "# plot the loss and accuracy\n",
    "plt.plot(train_losses, label='Train Loss')\n",
    "plt.plot(val_losses, label='Validation Loss')\n",
    "plt.legend()"
   ]
  },
  {
   "cell_type": "code",
   "execution_count": 108,
   "id": "61f11eed",
   "metadata": {},
   "outputs": [
    {
     "data": {
      "text/plain": [
       "<matplotlib.legend.Legend at 0x2cf0eff1f90>"
      ]
     },
     "execution_count": 108,
     "metadata": {},
     "output_type": "execute_result"
    },
    {
     "data": {
      "image/png": "[encoded data removed]",
      "text/plain": [
       "<Figure size 640x480 with 1 Axes>"
      ]
     },
     "metadata": {},
     "output_type": "display_data"
    }
   ],
   "source": [
    "# plot the accuracy\n",
    "plt.plot(train_accuracies, label='Train Accuracy')\n",
    "plt.plot(val_accuracies, label='Validation Accuracy')\n",
    "plt.legend()"
   ]
  },
  {
   "cell_type": "code",
   "execution_count": 120,
   "id": "f9112381",
   "metadata": {},
   "outputs": [
    {
     "name": "stdout",
     "output_type": "stream",
     "text": [
      "Accuracy: 54.84581497797357\n",
      "              precision    recall  f1-score   support\n",
      "\n",
      "           0       0.52      0.87      0.65       221\n",
      "           1       0.66      0.24      0.36       233\n",
      "\n",
      "    accuracy                           0.55       454\n",
      "   macro avg       0.59      0.56      0.50       454\n",
      "weighted avg       0.59      0.55      0.50       454\n",
      "\n"
     ]
    }
   ],
   "source": [
    "# Test the model and report the accuracy, f1-score, precision and recall\n",
    "model.eval()\n",
    "\n",
    "with torch.no_grad():\n",
    "    correct = 0\n",
    "    total = 0\n",
    "    y_true = []\n",
    "    y_pred = []\n",
    "\n",
    "    for i, (data, labels) in enumerate(test_loader):\n",
    "        data = data.to(device)\n",
    "        labels = labels.to(device)\n",
    "\n",
    "        outputs = model(data)\n",
    "        _, predicted = torch.max(outputs, 1)\n",
    "\n",
    "        y_true.extend(labels.cpu().numpy())\n",
    "        y_pred.extend(predicted.cpu().numpy())\n",
    "\n",
    "        total += labels.size(0)\n",
    "        correct += (predicted == labels).sum().item()\n",
    "\n",
    "    print(f'Accuracy: {100*correct/total}')\n",
    "    print(classification_report(y_true, y_pred))\n",
    "\n"
   ]
  }
 ],
 "metadata": {
  "kernelspec": {
   "display_name": "Python 3",
   "language": "python",
   "name": "python3"
  },
  "language_info": {
   "codemirror_mode": {
    "name": "ipython",
    "version": 3
   },
   "file_extension": ".py",
   "mimetype": "text/x-python",
   "name": "python",
   "nbconvert_exporter": "python",
   "pygments_lexer": "ipython3",
   "version": "3.11.7"
  }
 },
 "nbformat": 4,
 "nbformat_minor": 5
}
